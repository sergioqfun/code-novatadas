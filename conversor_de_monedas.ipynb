{
  "nbformat": 4,
  "nbformat_minor": 0,
  "metadata": {
    "colab": {
      "name": "conversor de monedas.ipynb",
      "provenance": [],
      "collapsed_sections": [],
      "authorship_tag": "ABX9TyMn1JqUZ0XpeNVVyGpR8eAk",
      "include_colab_link": true
    },
    "kernelspec": {
      "name": "python3",
      "display_name": "Python 3"
    },
    "language_info": {
      "name": "python"
    }
  },
  "cells": [
    {
      "cell_type": "markdown",
      "metadata": {
        "id": "view-in-github",
        "colab_type": "text"
      },
      "source": [
        "<a href=\"https://colab.research.google.com/github/sergioqfun/code-novatadas/blob/main/conversor_de_monedas.ipynb\" target=\"_parent\"><img src=\"https://colab.research.google.com/assets/colab-badge.svg\" alt=\"Open In Colab\"/></a>"
      ]
    },
    {
      "cell_type": "code",
      "execution_count": 2,
      "metadata": {
        "id": "Ki4qoC4JoQeg",
        "colab": {
          "base_uri": "https://localhost:8080/"
        },
        "outputId": "df5d9f7d-4d1c-4dac-84d4-5ae5367623ff"
      },
      "outputs": [
        {
          "output_type": "stream",
          "name": "stdout",
          "text": [
            "\n",
            "Bienvenido al conversor de monedas \n",
            "\n",
            "1 - Pesos colombianos\n",
            "2 - Pesos argenitinos\n",
            "3 - Pesos mexicanos\n",
            "\n",
            "Elige una opción: 6\n",
            "ingresa una opción valida por favor\n"
          ]
        }
      ],
      "source": [
        "menu = \"\"\"\n",
        "Bienvenido al conversor de monedas \n",
        "\n",
        "1 - Pesos colombianos\n",
        "2 - Pesos argenitinos\n",
        "3 - Pesos mexicanos\n",
        "\n",
        "Elige una opción: \"\"\"\n",
        "\n",
        "opción = int(input(menu))\n",
        "\n",
        "if opción == 1:\n",
        "   pesos = input (\" ¿Cuantos pesos colombianos tienes?:  \") \n",
        "   pesos = float (pesos) \n",
        "   valor_dolar = 3788 \n",
        "   dolares = pesos / valor_dolar  \n",
        "   dolares = round(dolares, 3)  \n",
        "   dolares = str(dolares) \n",
        "   print( \"Tienes $\" + dolares + \" dólares\" )  \n",
        "elif opción == 2:\n",
        "     pesos = input (\" ¿Cuantos pesos argentinos tienes?:  \") \n",
        "     pesos = float (pesos) \n",
        "     valor_dolar = 65 \n",
        "     dolares = pesos / valor_dolar  \n",
        "     dolares = round(dolares, 3)  \n",
        "     dolares = str(dolares) \n",
        "     print( \"Tienes $\" + dolares + \" dólares\" ) \n",
        "elif opción == 3:\n",
        "     pesos = input (\" ¿Cuantos pesos mexicanos tienes?:  \") \n",
        "     pesos = float (pesos) \n",
        "     valor_dolar = 24 \n",
        "     dolares = pesos / valor_dolar  \n",
        "     dolares = round(dolares, 3)  \n",
        "     dolares = str(dolares) \n",
        "     print( \"Tienes $\" + dolares + \" dólares\" )  \n",
        "else:\n",
        "     print(\"ingresa una opción valida por favor\")  \n",
        "     \n",
        "\n",
        "\n",
        "\n",
        "\n"
      ]
    }
  ]
}